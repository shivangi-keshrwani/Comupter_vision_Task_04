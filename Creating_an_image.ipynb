{
 "cells": [
  {
   "cell_type": "markdown",
   "id": "0cda39d3",
   "metadata": {},
   "source": [
    "# Task 4.1 Creating an image using openCv"
   ]
  },
  {
   "cell_type": "code",
   "execution_count": 1,
   "id": "da48a9f5",
   "metadata": {},
   "outputs": [],
   "source": [
    "import cv2\n",
    "import numpy"
   ]
  },
  {
   "cell_type": "code",
   "execution_count": 2,
   "id": "03352610",
   "metadata": {},
   "outputs": [
    {
     "data": {
      "text/plain": [
       "-1"
      ]
     },
     "execution_count": 2,
     "metadata": {},
     "output_type": "execute_result"
    }
   ],
   "source": [
    "import numpy as np  \n",
    "import cv2  \n",
    "font = cv2.FONT_HERSHEY_SIMPLEX  \n",
    "# Create a black image.  \n",
    "img = numpy.zeros((700,700,3))\n",
    "cv2.putText(img,'Linux World Summer training Task 4.1',(80,100), font, 1,(255,255,255),3) \n",
    "cv2.line(img,(500,175),(150,175),(153,0,0),20)\n",
    "\n",
    "cv2.line(img,(465,450),(325,175),10)\n",
    "cv2.line(img,(530,450),(325,175),10)\n",
    "\n",
    "\n",
    "cv2.line(img,(300,450),(325,175),10)     \n",
    "cv2.line(img,(375,450),(325,175),10)\n",
    "\n",
    "cv2.line(img,(245,450),(325,175),10)\n",
    "cv2.line(img,(405,450),(325,175),10)\n",
    "\n",
    "cv2.line(img,(195,450),(325,175),10)\n",
    "cv2.line(img,(145,450),(325,175),10)\n",
    "         \n",
    "cv2.circle(img,(310,500), 55, (0,255,0), -1)  \n",
    "cv2.circle(img,(370,500), 55, (0,0,255), -1) \n",
    "cv2.circle(img,(240,500), 55, (0,0,255), -1) \n",
    "cv2.circle(img,(190,490), 55, (0,255,0), -1)  \n",
    "cv2.circle(img,(420,490), 55, (0,255,0), -1) \n",
    "cv2.circle(img,(140,480), 55, (0,0,255), -1) \n",
    "cv2.circle(img,(470,480), 55, (0,0,255), -1) \n",
    "cv2.circle(img,(500,460), 55, (0,255,0), -1) \n",
    " \n",
    "\n",
    "#Display the image  \n",
    "cv2.imshow(\"image\",img)  \n",
    "cv2.waitKey(0)  "
   ]
  },
  {
   "cell_type": "code",
   "execution_count": null,
   "id": "2aac5790",
   "metadata": {},
   "outputs": [],
   "source": []
  },
  {
   "cell_type": "code",
   "execution_count": null,
   "id": "dbb91096",
   "metadata": {},
   "outputs": [],
   "source": []
  },
  {
   "cell_type": "code",
   "execution_count": null,
   "id": "8acf8813",
   "metadata": {},
   "outputs": [],
   "source": []
  },
  {
   "cell_type": "code",
   "execution_count": null,
   "id": "549ddda9",
   "metadata": {},
   "outputs": [],
   "source": []
  }
 ],
 "metadata": {
  "kernelspec": {
   "display_name": "Python 3",
   "language": "python",
   "name": "python3"
  },
  "language_info": {
   "codemirror_mode": {
    "name": "ipython",
    "version": 3
   },
   "file_extension": ".py",
   "mimetype": "text/x-python",
   "name": "python",
   "nbconvert_exporter": "python",
   "pygments_lexer": "ipython3",
   "version": "3.8.8"
  }
 },
 "nbformat": 4,
 "nbformat_minor": 5
}
