{
 "cells": [
  {
   "cell_type": "markdown",
   "id": "3ba33676",
   "metadata": {},
   "source": [
    "# Task 4.3 Take 2 image and combine it to form single image."
   ]
  },
  {
   "cell_type": "code",
   "execution_count": 1,
   "id": "143f1f1e",
   "metadata": {},
   "outputs": [],
   "source": [
    "import cv2\n",
    "import numpy as np"
   ]
  },
  {
   "cell_type": "code",
   "execution_count": 2,
   "id": "252930ee",
   "metadata": {},
   "outputs": [
    {
     "data": {
      "text/plain": [
       "(300, 250, 3)"
      ]
     },
     "execution_count": 2,
     "metadata": {},
     "output_type": "execute_result"
    }
   ],
   "source": [
    "pic=cv2.imread(\"dog.jpg\")  # reading 1st image from the storage\n",
    "cv2.imshow(\"My 1st Picture\",pic) #showing 1st picture\n",
    "pic=cv2.resize(pic,(250,300))\n",
    "#Now holding both the images \n",
    "cv2.waitKey()\n",
    "\n",
    "#destroy the window\n",
    "cv2.destroyAllWindows()\n",
    "pic.shape"
   ]
  },
  {
   "cell_type": "code",
   "execution_count": 3,
   "id": "5b60b829",
   "metadata": {},
   "outputs": [
    {
     "data": {
      "text/plain": [
       "(300, 250, 3)"
      ]
     },
     "execution_count": 3,
     "metadata": {},
     "output_type": "execute_result"
    }
   ],
   "source": [
    "pic2=cv2.imread(\"dog1.jpg\")\n",
    "cv2.imshow(\"My 2nd Picture\",pic2) #showing the 2nd picture\n",
    "pic2=cv2.resize(pic2,(250,300))\n",
    "#Now holding both the images \n",
    "cv2.waitKey()\n",
    "\n",
    "#destroy the window\n",
    "cv2.destroyAllWindows()\n",
    "pic2.shape"
   ]
  },
  {
   "cell_type": "code",
   "execution_count": null,
   "id": "c27ef270",
   "metadata": {},
   "outputs": [],
   "source": []
  },
  {
   "cell_type": "code",
   "execution_count": 4,
   "id": "33105184",
   "metadata": {},
   "outputs": [],
   "source": [
    "MergeImage=np.hstack((pic2,pic))"
   ]
  },
  {
   "cell_type": "code",
   "execution_count": 5,
   "id": "4acbb044",
   "metadata": {},
   "outputs": [],
   "source": [
    "#now showing the merged pictures in the window\n",
    "cv2.imshow(\"Merged Picture\",MergeImage)\n",
    "cv2.waitKey()\n",
    "cv2.destroyAllWindows()"
   ]
  },
  {
   "cell_type": "code",
   "execution_count": 6,
   "id": "2d0b0f15",
   "metadata": {},
   "outputs": [],
   "source": [
    "Mergeing_pictures_vertical=np.vstack((pic,pic2))"
   ]
  },
  {
   "cell_type": "code",
   "execution_count": 7,
   "id": "c543c607",
   "metadata": {},
   "outputs": [],
   "source": [
    "#now showing the merged pictures in the window\n",
    "cv2.imshow(\"Merged Picture\",Mergeing_pictures_vertical)\n",
    "cv2.waitKey()\n",
    "cv2.destroyAllWindows()"
   ]
  },
  {
   "cell_type": "code",
   "execution_count": null,
   "id": "7d4fd462",
   "metadata": {},
   "outputs": [],
   "source": []
  },
  {
   "cell_type": "code",
   "execution_count": null,
   "id": "ada51542",
   "metadata": {},
   "outputs": [],
   "source": []
  },
  {
   "cell_type": "code",
   "execution_count": null,
   "id": "f84f39b7",
   "metadata": {},
   "outputs": [],
   "source": []
  },
  {
   "cell_type": "code",
   "execution_count": null,
   "id": "39689fd6",
   "metadata": {},
   "outputs": [],
   "source": []
  }
 ],
 "metadata": {
  "kernelspec": {
   "display_name": "Python 3",
   "language": "python",
   "name": "python3"
  },
  "language_info": {
   "codemirror_mode": {
    "name": "ipython",
    "version": 3
   },
   "file_extension": ".py",
   "mimetype": "text/x-python",
   "name": "python",
   "nbconvert_exporter": "python",
   "pygments_lexer": "ipython3",
   "version": "3.8.8"
  }
 },
 "nbformat": 4,
 "nbformat_minor": 5
}
