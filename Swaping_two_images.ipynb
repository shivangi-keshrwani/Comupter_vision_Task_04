{
 "cells": [
  {
   "cell_type": "markdown",
   "id": "61ca2356",
   "metadata": {},
   "source": [
    "# Task 4.2 Take 2 image crop some part of both image and swap it. # "
   ]
  },
  {
   "cell_type": "code",
   "execution_count": 1,
   "id": "fcde28e8",
   "metadata": {},
   "outputs": [],
   "source": [
    "import cv2\n",
    "import numpy as np"
   ]
  },
  {
   "cell_type": "code",
   "execution_count": 2,
   "id": "6b61b3a9",
   "metadata": {},
   "outputs": [
    {
     "data": {
      "text/plain": [
       "(500, 400, 3)"
      ]
     },
     "execution_count": 2,
     "metadata": {},
     "output_type": "execute_result"
    }
   ],
   "source": [
    "pic=cv2.imread(\"dog.jpg\")  # reading 1st image from the storage\n",
    "cv2.imshow(\"My 1st Picture\",pic) #showing 1st picture\n",
    "pic=cv2.resize(pic,(400,500))\n",
    "#Now holding both the images \n",
    "cv2.waitKey()\n",
    "\n",
    "#destroy the window\n",
    "cv2.destroyAllWindows()\n",
    "pic.shape"
   ]
  },
  {
   "cell_type": "code",
   "execution_count": 3,
   "id": "f3329f1f",
   "metadata": {},
   "outputs": [
    {
     "data": {
      "text/plain": [
       "(500, 400, 3)"
      ]
     },
     "execution_count": 3,
     "metadata": {},
     "output_type": "execute_result"
    }
   ],
   "source": [
    "pic2=cv2.imread(\"dog1.jpg\")\n",
    "cv2.imshow(\"My 2nd Picture\",pic2) #showing the 2nd picture\n",
    "pic2=cv2.resize(pic2,(400,500))\n",
    "#Now holding both the images \n",
    "cv2.waitKey()\n",
    "\n",
    "#destroy the window\n",
    "cv2.destroyAllWindows()\n",
    "pic2.shape"
   ]
  },
  {
   "cell_type": "code",
   "execution_count": 4,
   "id": "2bf1103e",
   "metadata": {},
   "outputs": [
    {
     "name": "stdout",
     "output_type": "stream",
     "text": [
      "shape of the 1st picture\n"
     ]
    },
    {
     "data": {
      "text/plain": [
       "(500, 400, 3)"
      ]
     },
     "execution_count": 4,
     "metadata": {},
     "output_type": "execute_result"
    }
   ],
   "source": [
    "#shape of the 1st picture \n",
    "print(\"shape of the 1st picture\")\n",
    "pic.shape"
   ]
  },
  {
   "cell_type": "code",
   "execution_count": 5,
   "id": "55bf7664",
   "metadata": {},
   "outputs": [
    {
     "name": "stdout",
     "output_type": "stream",
     "text": [
      "shape of the 2nd picture\n"
     ]
    },
    {
     "data": {
      "text/plain": [
       "(500, 400, 3)"
      ]
     },
     "execution_count": 5,
     "metadata": {},
     "output_type": "execute_result"
    }
   ],
   "source": [
    "#shape of the 1st picture \n",
    "print(\"shape of the 2nd picture\")\n",
    "pic2.shape"
   ]
  },
  {
   "cell_type": "code",
   "execution_count": 6,
   "id": "c61c5750",
   "metadata": {},
   "outputs": [],
   "source": [
    "#now Merging two pictures\n",
    "merge_picture= np.hstack((pic,pic2))"
   ]
  },
  {
   "cell_type": "code",
   "execution_count": 7,
   "id": "af15dc59",
   "metadata": {},
   "outputs": [],
   "source": [
    "# Now showing both the pictures together\n",
    "cv2.imshow(\"My 1st Picture\",merge_picture) #showing merged picture\n",
    "\n",
    "#Now holding both the images \n",
    "cv2.waitKey()\n",
    "\n",
    "#destroy the window\n",
    "cv2.destroyAllWindows()"
   ]
  },
  {
   "cell_type": "code",
   "execution_count": 8,
   "id": "c48b2c39",
   "metadata": {},
   "outputs": [
    {
     "data": {
      "text/plain": [
       "(500, 800, 3)"
      ]
     },
     "execution_count": 8,
     "metadata": {},
     "output_type": "execute_result"
    }
   ],
   "source": [
    "merge_picture.shape"
   ]
  },
  {
   "cell_type": "code",
   "execution_count": 9,
   "id": "59398927",
   "metadata": {},
   "outputs": [],
   "source": [
    "#swapping the part of an image from 1st to the 2nd image and vice n versa\n",
    "\n",
    "#Logic for swapping the image\n",
    "#a=a+b\n",
    "#b=a-b\n",
    "#a=a-b\n",
    "\n",
    "pic[150:400,150:400]=pic[150:400,150:400]+pic2[150:400,150:400]\n",
    "pic2[150:400,150:400]=pic[150:400,150:400]-pic2[150:400,150:400]\n",
    "pic[150:400,150:400]=pic[150:400,150:400]-pic2[150:400,150:400]"
   ]
  },
  {
   "cell_type": "code",
   "execution_count": 10,
   "id": "b8383d90",
   "metadata": {},
   "outputs": [],
   "source": [
    "# Now showing both the pictures together\n",
    "cv2.imshow(\"My 1st Picture\",pic) #showing 1st picture\n",
    "\n",
    "cv2.imshow(\"My 2nd Picture\",pic2) #showing the 2nd picture\n",
    "\n",
    "#Now holding both the images \n",
    "cv2.waitKey()\n",
    "\n",
    "#destroy the window\n",
    "cv2.destroyAllWindows()"
   ]
  },
  {
   "cell_type": "code",
   "execution_count": null,
   "id": "4f5db907",
   "metadata": {},
   "outputs": [],
   "source": []
  },
  {
   "cell_type": "code",
   "execution_count": null,
   "id": "1d69ffbb",
   "metadata": {},
   "outputs": [],
   "source": []
  }
 ],
 "metadata": {
  "kernelspec": {
   "display_name": "Python 3",
   "language": "python",
   "name": "python3"
  },
  "language_info": {
   "codemirror_mode": {
    "name": "ipython",
    "version": 3
   },
   "file_extension": ".py",
   "mimetype": "text/x-python",
   "name": "python",
   "nbconvert_exporter": "python",
   "pygments_lexer": "ipython3",
   "version": "3.8.8"
  }
 },
 "nbformat": 4,
 "nbformat_minor": 5
}
